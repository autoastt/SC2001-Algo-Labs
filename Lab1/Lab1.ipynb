{
 "cells": [
  {
   "cell_type": "code",
   "execution_count": 1,
   "id": "2889cd16",
   "metadata": {},
   "outputs": [],
   "source": [
    "import random\n",
    "import matplotlib.pyplot as plt\n",
    "import seaborn as sb\n",
    "import pandas as pd\n",
    "import math\n",
    "import time"
   ]
  },
  {
   "cell_type": "markdown",
   "id": "5ac26d6b-ccd0-4c53-8f98-22fa383512e2",
   "metadata": {},
   "source": [
    "## A. Algorithm Implementation"
   ]
  },
  {
   "cell_type": "code",
   "execution_count": 2,
   "id": "d95699a5-5f4b-4da0-a202-b2b2e21fdb10",
   "metadata": {},
   "outputs": [],
   "source": [
    "def insertionSort(A: list) -> tuple:\n",
    "    cnt = 0\n",
    "    for i in range(1, len(A)):\n",
    "        for j in range(i, 0, -1):\n",
    "            # counts key comparisons \n",
    "            cnt += 1\n",
    "            if A[j] < A[j - 1]:\n",
    "                A[j], A[j - 1] = A[j - 1], A[j]\n",
    "            else:\n",
    "                break\n",
    "    return (A, cnt)"
   ]
  },
  {
   "cell_type": "code",
   "execution_count": 3,
   "id": "eedad688-b35b-435c-8b97-349bccd1622b",
   "metadata": {},
   "outputs": [],
   "source": [
    "def merge(A: list, B: list) -> tuple:\n",
    "    # a stores index of A, b stores index of B, cnt is key comparisons\n",
    "    a, b, cnt = 0, 0, 0\n",
    "    ret = []\n",
    "    while a < len(A) and b < len(B):\n",
    "        cnt += 1\n",
    "        if A[a] < B[b]:\n",
    "            ret.append(A[a])\n",
    "            a += 1\n",
    "        else:\n",
    "            ret.append(B[b])\n",
    "            b += 1\n",
    "    while a < len(A):\n",
    "        ret.append(A[a])\n",
    "        a += 1\n",
    "    while b < len(B):\n",
    "        ret.append(B[b])\n",
    "        b += 1\n",
    "    return (ret, cnt)\n",
    "        \n",
    "def mergeSort(A: list) -> tuple:\n",
    "    if len(A) <= 1:\n",
    "        return (A, 0)\n",
    "    l, r = 0, len(A) - 1\n",
    "    mid = (l + r) // 2 + 1\n",
    "    L, cnt_l = mergeSort(A[:mid])\n",
    "    R, cnt_r = mergeSort(A[mid:])\n",
    "    A, cnt_merge = merge(L, R)\n",
    "    return (A, cnt_l + cnt_r + cnt_merge)"
   ]
  },
  {
   "cell_type": "code",
   "execution_count": 4,
   "id": "2a90dbbc-b998-4e86-bc44-00d4609a2fa7",
   "metadata": {},
   "outputs": [],
   "source": [
    "def hybridSort(A: list, S: int) -> tuple:\n",
    "    if len(A) <= S:\n",
    "        return insertionSort(A)\n",
    "    elif len(A) <= 1:\n",
    "        return (A, 0)\n",
    "    l, r = 0, len(A) - 1\n",
    "    mid = (l + r) // 2 + 1\n",
    "    L, cnt_l = hybridSort(A[:mid], S)\n",
    "    R, cnt_r = hybridSort(A[mid:], S)\n",
    "    A, cnt_merge = merge(L, R)\n",
    "    return (A, cnt_l + cnt_r + cnt_merge)"
   ]
  },
  {
   "cell_type": "code",
   "execution_count": 5,
   "id": "948ccf60-80cc-405e-acf5-624ca7ccb1fd",
   "metadata": {},
   "outputs": [],
   "source": [
    "def hybridTest(A: list):\n",
    "    tmp = A.copy()\n",
    "    print(\"S\\tKey Comparisons\")\n",
    "    for s in range(len(A) + 1):\n",
    "        A = tmp\n",
    "        print(f\"{s}\\t{hybridSort(A, s)[1]}\")"
   ]
  },
  {
   "cell_type": "code",
   "execution_count": 6,
   "id": "93f3798b-a8d9-4ec7-a9cd-b62ea93d9270",
   "metadata": {},
   "outputs": [
    {
     "data": {
      "text/plain": [
       "([1, 2, 2, 4, 5], 10)"
      ]
     },
     "execution_count": 6,
     "metadata": {},
     "output_type": "execute_result"
    }
   ],
   "source": [
    "A = [5, 2, 4, 2, 1]\n",
    "insertionSort(A)"
   ]
  },
  {
   "cell_type": "code",
   "execution_count": 7,
   "id": "0073ae62-0237-4216-ad4e-3ad9e7173cff",
   "metadata": {},
   "outputs": [
    {
     "data": {
      "text/plain": [
       "([3, 14, 15, 17, 28, 31, 40, 51], 16)"
      ]
     },
     "execution_count": 7,
     "metadata": {},
     "output_type": "execute_result"
    }
   ],
   "source": [
    "A = [14, 40, 31, 28, 3, 15, 17, 51]\n",
    "mergeSort(A)"
   ]
  },
  {
   "cell_type": "code",
   "execution_count": 8,
   "id": "b826df22-7964-4db3-9e0d-77655ac90ddc",
   "metadata": {},
   "outputs": [
    {
     "data": {
      "text/plain": [
       "([3, 14, 15, 17, 28, 31, 40, 51], 16)"
      ]
     },
     "execution_count": 8,
     "metadata": {},
     "output_type": "execute_result"
    }
   ],
   "source": [
    "A = [14, 40, 31, 28, 3, 15, 17, 51]\n",
    "hybridSort(A, 2)"
   ]
  },
  {
   "cell_type": "code",
   "execution_count": 9,
   "id": "98f2c6fa-672f-4c58-bdcc-52b0e92d07b8",
   "metadata": {},
   "outputs": [
    {
     "data": {
      "text/plain": [
       "([23, 23, 23, 23, 23, 23, 23, 23], 12)"
      ]
     },
     "execution_count": 9,
     "metadata": {},
     "output_type": "execute_result"
    }
   ],
   "source": [
    "A = [23, 23, 23, 23, 23, 23, 23, 23]\n",
    "hybridSort(A, 2)"
   ]
  },
  {
   "cell_type": "code",
   "execution_count": 10,
   "id": "cc178d3f-7d6c-4d27-95f1-707f1721f295",
   "metadata": {},
   "outputs": [
    {
     "name": "stdout",
     "output_type": "stream",
     "text": [
      "S\tKey Comparisons\n",
      "0\t12\n",
      "1\t12\n",
      "2\t12\n",
      "3\t12\n",
      "4\t10\n",
      "5\t10\n",
      "6\t10\n",
      "7\t10\n",
      "8\t7\n"
     ]
    }
   ],
   "source": [
    "hybridTest(A)"
   ]
  },
  {
   "cell_type": "markdown",
   "id": "7d5839cf-07b1-431c-983b-4f5cb5375b40",
   "metadata": {},
   "source": [
    "## B. Generate Input Data"
   ]
  },
  {
   "cell_type": "code",
   "execution_count": 11,
   "id": "0c7ba453",
   "metadata": {},
   "outputs": [],
   "source": [
    "data_sizes = [1000 * 10 ** i for i in range(5)]\n",
    "\n",
    "# Generate the data, from 1000 to 10million\n",
    "datasets = []\n",
    "for size in data_sizes:\n",
    "    A = [random.randint(1, size) for _ in range(size)]\n",
    "    datasets.append(A)"
   ]
  },
  {
   "cell_type": "markdown",
   "id": "6fb77014-f58f-4ce7-bb33-99beac12f988",
   "metadata": {},
   "source": [
    "## C. Analysis"
   ]
  },
  {
   "cell_type": "markdown",
   "id": "2e80bacd-768e-48bf-8eea-8d2e88907f0a",
   "metadata": {},
   "source": [
    "### (i) Fixed `S = 300`"
   ]
  },
  {
   "cell_type": "code",
   "execution_count": 12,
   "id": "e6b46387",
   "metadata": {},
   "outputs": [],
   "source": [
    "S = 300\n",
    "key_comparisons = []\n",
    "\n",
    "for A in datasets:\n",
    "    sortedA, cnt = hybridSort(A, S)\n",
    "    key_comparisons.append(cnt)"
   ]
  },
  {
   "cell_type": "code",
   "execution_count": 13,
   "id": "56f3cdb8",
   "metadata": {},
   "outputs": [
    {
     "data": {
      "image/png": "[encoded data removed]",
      "text/plain": [
       "<Figure size 640x480 with 1 Axes>"
      ]
     },
     "metadata": {},
     "output_type": "display_data"
    }
   ],
   "source": [
    "# in theory, function should be O(nS + nlog(n / S))\n",
    "theoretical_values = [n * S + n * math.log2(n / S) for n in data_sizes]\n",
    "nlogn = [n * math.log2(n) for n in data_sizes]\n",
    "\n",
    "# Plot the actual key comparisons\n",
    "sb.lineplot(x=data_sizes, y=key_comparisons, marker=\"o\", color='blue', label=\"Key Comparisons\")\n",
    "sb.lineplot(x=data_sizes, y=theoretical_values, marker=\"o\", color='red', label=\"NS + Nlog(N/S)\")\n",
    "sb.lineplot(x=data_sizes, y=nlogn, marker=\"o\", color='green', label=\"NlogN\")\n",
    "\n",
    "plt.xlabel(\"Array Size\")\n",
    "plt.ylabel(\"Key Comparisons\")\n",
    "plt.title(\"Hybrid Sort with S=300\")\n",
    "plt.legend()\n",
    "plt.show()"
   ]
  },
  {
   "cell_type": "markdown",
   "id": "2f019ef9-92ce-4b2e-b68d-9dc0dfe317d1",
   "metadata": {},
   "source": [
    "### (ii) Fixed `N = 100000`"
   ]
  },
  {
   "cell_type": "code",
   "execution_count": 14,
   "id": "97d96cff",
   "metadata": {},
   "outputs": [],
   "source": [
    "n = 100000\n",
    "A = [random.randint(1, n) for _ in range(n)]\n",
    "S_range = range(1, 301)\n",
    "second_key_comparisons = []\n",
    "\n",
    "for S in S_range:\n",
    "    sortedA, cnt = hybridSort(A, S)\n",
    "    second_key_comparisons.append(cnt)"
   ]
  },
  {
   "cell_type": "code",
   "execution_count": 15,
   "id": "7b58e87d",
   "metadata": {},
   "outputs": [
    {
     "data": {
      "image/png": "[encoded data removed]",
      "text/plain": [
       "<Figure size 640x480 with 1 Axes>"
      ]
     },
     "metadata": {},
     "output_type": "display_data"
    }
   ],
   "source": [
    "second_theoretical_values = [n * S + n * math.log2(n / S) for S in S_range]\n",
    "nlogn = [n * math.log2(n) for _ in S_range]\n",
    "\n",
    "# caclulate the number of key comparisons\n",
    "sb.lineplot(x=S_range, y=second_key_comparisons, marker='o', linewidth=2, color='blue', label=\"Key Comparisons\")\n",
    "sb.lineplot(x=S_range, y=second_theoretical_values, marker='X', linewidth=2, color='red', label=\"NS + Nlog(N/S)\")\n",
    "sb.lineplot(x=S_range, y=nlogn, marker='X', linewidth=2, color='green', label=\"NlogN\")\n",
    "plt.xlabel(\"S\")\n",
    "plt.ylabel(\"Key Comparisons\")\n",
    "plt.title(\"Hybrid Sort with Array Size=100\")\n",
    "plt.show()"
   ]
  },
  {
   "cell_type": "markdown",
   "id": "bdc9b8c3-1e14-4a4d-839d-7611a103facd",
   "metadata": {},
   "source": [
    "### (iii) Find Optimal `S`"
   ]
  },
  {
   "cell_type": "code",
   "execution_count": null,
   "id": "1d9fbd2a",
   "metadata": {},
   "outputs": [
    {
     "name": "stdout",
     "output_type": "stream",
     "text": [
      "N = 1000:\n",
      "Running S = 20...\n",
      "Running S = 40...\n",
      "Running S = 60...\n",
      "Running S = 80...\n",
      "Running S = 100...\n",
      "\n",
      "\t\tBy Key Comparisons\tBy Runtime\n",
      "Optimal S\t3\t\t\t30\n",
      "\n",
      "N = 10000:\n",
      "Running S = 20...\n",
      "Running S = 40...\n",
      "Running S = 60...\n",
      "Running S = 80...\n",
      "Running S = 100...\n",
      "\n",
      "\t\tBy Key Comparisons\tBy Runtime\n",
      "Optimal S\t3\t\t\t10\n",
      "\n",
      "N = 100000:\n",
      "Running S = 20...\n",
      "Running S = 40...\n",
      "Running S = 60...\n",
      "Running S = 80...\n",
      "Running S = 100...\n",
      "\n",
      "\t\tBy Key Comparisons\tBy Runtime\n",
      "Optimal S\t1\t\t\t11\n",
      "\n",
      "N = 1000000:\n",
      "Running S = 20...\n",
      "Running S = 40...\n",
      "Running S = 60...\n",
      "Running S = 80...\n",
      "Running S = 100...\n",
      "\n",
      "\t\tBy Key Comparisons\tBy Runtime\n",
      "Optimal S\t3\t\t\t25\n",
      "\n",
      "N = 10000000:\n",
      "Running S = 20...\n",
      "Running S = 40...\n",
      "Running S = 60...\n"
     ]
    }
   ],
   "source": [
    "# we will plot total comparisons against S\n",
    "upper_S = 101\n",
    "comparisons = []\n",
    "times = []\n",
    "i = 0\n",
    "\n",
    "# we do a linear search from [1, 100] for S for each dataset\n",
    "for data in datasets:\n",
    "    mn_cnt, mn_time = -1, -1\n",
    "    S_cnt, S_time = 0, 0\n",
    "    comparisons.append([])\n",
    "    times.append([])\n",
    "    print(f\"N = {len(data)}:\")\n",
    "    for S in range(1, upper_S):\n",
    "        total = 0\n",
    "        start_time = time.perf_counter()\n",
    "        sortedA, cnt = hybridSort(data, S)\n",
    "        end_time = time.perf_counter()\n",
    "        total_time = end_time - start_time\n",
    "        if mn_cnt == -1 or mn_cnt > cnt:\n",
    "            mn_cnt = cnt\n",
    "            S_cnt = S\n",
    "        if mn_time == -1 or mn_time > total_time:\n",
    "            mn_time = total_time\n",
    "            S_time = S\n",
    "        comparisons[i].append(cnt)\n",
    "        times[i].append(total_time)\n",
    "        if S % 20 == 0:\n",
    "            print(f\"Running S = {S}...\")\n",
    "    i += 1\n",
    "    print(f\"\\n\\t\\tBy Key Comparisons\\tBy Runtime\")\n",
    "    print(f\"Optimal S\\t{S_cnt}\\t\\t\\t{S_time}\\n\")"
   ]
  },
  {
   "cell_type": "code",
   "execution_count": null,
   "id": "8db43410",
   "metadata": {},
   "outputs": [],
   "source": [
    "# plot S vs Key Comp\n",
    "for i in range(5):\n",
    "    sb.lineplot(x=range(1, upper_S), y=comparisons[i], marker='o', linewidth=2, color='blue', label=f\"Total Key Comparisons\")\n",
    "    plt.xlabel(\"S\")\n",
    "    plt.ylabel(\"Key Comparisons\")\n",
    "    plt.title(f\"Finding Optimal Value of S by Key Comparisons when N = {1000 * 10 ** i}\")\n",
    "    plt.show()"
   ]
  },
  {
   "cell_type": "code",
   "execution_count": null,
   "id": "50775816-7aac-4ed9-bf86-023c2d58e954",
   "metadata": {},
   "outputs": [],
   "source": [
    "# plot S vs Runtime\n",
    "for i in range(5):\n",
    "    sb.lineplot(x=range(1, upper_S), y=times[i], marker='o', linewidth=2, color='blue', label=f\"Total Runtime\")\n",
    "    plt.xlabel(\"S\")\n",
    "    plt.ylabel(\"Runtime\")\n",
    "    plt.title(f\"Finding Optimal Value of S by Runtime when N = {1000 * 10 ** i}\")\n",
    "    plt.show()"
   ]
  },
  {
   "cell_type": "code",
   "execution_count": null,
   "id": "7ea89cce",
   "metadata": {},
   "outputs": [],
   "source": [
    "x = 10000000\n",
    "final_dataset = [random.randint(1, x) for i in range(x)] # 10 mil datapoints"
   ]
  },
  {
   "cell_type": "code",
   "execution_count": null,
   "id": "89d427cb",
   "metadata": {},
   "outputs": [],
   "source": [
    "optimal_S = 17\n",
    "start = time.perf_counter()\n",
    "sortedA, cnt = hybridSort(final_dataset, optimal_S)\n",
    "end = time.perf_counter()\n",
    "\n",
    "print(f\"Elapsed Time: {end - start} seconds\")\n",
    "print(f\"Key Comparisons: {cnt}\")"
   ]
  },
  {
   "cell_type": "code",
   "execution_count": null,
   "id": "1373246f",
   "metadata": {},
   "outputs": [],
   "source": [
    "start = time.perf_counter()\n",
    "# Run your algorithm\n",
    "sortedA, cnt = mergeSort(final_dataset)\n",
    "end = time.perf_counter()\n",
    "\n",
    "print(f\"Elapsed Time: {end - start} seconds\")\n",
    "print(f\"Key Comparisons: {cnt}\")"
   ]
  },
  {
   "cell_type": "code",
   "execution_count": null,
   "id": "8a912d31",
   "metadata": {},
   "outputs": [],
   "source": []
  }
 ],
 "metadata": {
  "kernelspec": {
   "display_name": "Python 3",
   "language": "python",
   "name": "python3"
  },
  "language_info": {
   "codemirror_mode": {
    "name": "ipython",
    "version": 3
   },
   "file_extension": ".py",
   "mimetype": "text/x-python",
   "name": "python",
   "nbconvert_exporter": "python",
   "pygments_lexer": "ipython3",
   "version": "3.13.1"
  }
 },
 "nbformat": 4,
 "nbformat_minor": 5
}
