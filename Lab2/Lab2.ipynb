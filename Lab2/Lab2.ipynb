{
 "cells": [
  {
   "cell_type": "markdown",
   "metadata": {},
   "source": [
    "# Project 2 Djikstra's Algorithm\n",
    "\n",
    "(a) Suppose the input graph G = (V, E) is stored in an adjacency matrix and we\n",
    "use an array for the priority queue. \n",
    "\n",
    "Implement the Dijkstra’s algorithm using this\n",
    "setting and analyze its time complexity with respect to |V| and |E| both\n",
    "theoretically and empirically."
   ]
  },
  {
   "cell_type": "code",
   "execution_count": null,
   "metadata": {},
   "outputs": [],
   "source": [
    "# Djikstra for part 1a\n",
    "# Assume it is stored in an adj matrix, assuming V nodes, size of adj matrix is V x V\n",
    "\n",
    "def djikstra_1a(adj_matrix, source):\n",
    "    # measures distance from that \n",
    "    V = len(adj_matrix)\n",
    "    distances = [float('inf') for i in range(V)] \n",
    "    \n",
    "    # distance from root to itself is 0\n",
    "    distances[source] = 0\n",
    "    visited = set()\n",
    "    # \"priority queue\"\n",
    "    pq = []\n",
    "    while len(visited) != V:\n",
    "        # first we extract cheapest node\n",
    "        min_node = -1\n",
    "        distance = float('inf')\n",
    "        for i in range(V):\n",
    "            if i not in visited and distances[i] < distance:\n",
    "                min_node = i\n",
    "                distance = distances[i]\n",
    "        \n",
    "        if min_node == -1:\n",
    "            return distances\n",
    "        \n",
    "        visited.add(min_node)\n",
    "        for i in range(V):\n",
    "            if adj_matrix[min_node][i] != 0 and i not in visited:\n",
    "                distances[i] = min(distances[i], distances[min_node] + adj_matrix[min_node][i])\n",
    "    \n",
    "    \n",
    "    \n",
    "    \n",
    "    \n",
    "    # returns the shortest path from node 0 to all other nodes"
   ]
  },
  {
   "cell_type": "code",
   "execution_count": null,
   "metadata": {},
   "outputs": [],
   "source": []
  }
 ],
 "metadata": {
  "kernelspec": {
   "display_name": "base",
   "language": "python",
   "name": "python3"
  },
  "language_info": {
   "codemirror_mode": {
    "name": "ipython",
    "version": 3
   },
   "file_extension": ".py",
   "mimetype": "text/x-python",
   "name": "python",
   "nbconvert_exporter": "python",
   "pygments_lexer": "ipython3",
   "version": "3.12.7"
  }
 },
 "nbformat": 4,
 "nbformat_minor": 2
}
