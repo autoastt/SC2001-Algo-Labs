{
 "cells": [
  {
   "cell_type": "markdown",
   "metadata": {},
   "source": [
    "# Project 2 Djikstra's Algorithm\n",
    "\n",
    "(a) Suppose the input graph G = (V, E) is stored in an adjacency matrix and we\n",
    "use an array for the priority queue. \n",
    "\n",
    "Implement the Dijkstra’s algorithm using this\n",
    "setting and analyze its time complexity with respect to |V| and |E| both\n",
    "theoretically and empirically."
   ]
  },
  {
   "cell_type": "code",
   "execution_count": null,
   "metadata": {},
   "outputs": [],
   "source": [
    "# Djikstra for part 1a\n",
    "# Assume it is stored in an adj matrix, assuming V nodes, size of adj matrix is V x V\n",
    "\n",
    "def djikstra_1a(adj_matrix, source):\n",
    "    # measures distance from that \n",
    "    V = len(adj_matrix)\n",
    "    distances = [float('inf') for i in range(V)] \n",
    "    # distance from root to itself is 0\n",
    "    distances[source] = 0\n",
    "    visited = set()\n",
    "    # \"priority queue\"\n",
    "    pq = []\n",
    "    \n",
    "    for i in range(len(adj_matrix)):\n",
    "        for j in range(len(adj_matrix[0])):\n",
    "            if adj_matrix[i][j] != 0:\n",
    "                pq.append((adj_matrix[i][j], i, j))\n",
    "    \n",
    "    \n",
    "    # returns the shortest path from node 0 to all other nodes"
   ]
  },
  {
   "cell_type": "code",
   "execution_count": null,
   "metadata": {},
   "outputs": [],
   "source": []
  }
 ],
 "metadata": {
  "kernelspec": {
   "display_name": "base",
   "language": "python",
   "name": "python3"
  },
  "language_info": {
   "name": "python",
   "version": "3.12.7"
  }
 },
 "nbformat": 4,
 "nbformat_minor": 2
}
