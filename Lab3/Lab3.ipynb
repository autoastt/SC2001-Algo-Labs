{
 "cells": [
  {
   "cell_type": "markdown",
   "id": "91a63aef-8bd9-4749-a806-1f8e122699ae",
   "metadata": {},
   "source": [
    "# Project 3 Dynamic Programming"
   ]
  },
  {
   "cell_type": "markdown",
   "id": "c1593718-cabe-4c99-a4ab-d88735a4806a",
   "metadata": {},
   "source": [
    "We have a knapsack of capacity weight `C` (a positive integer) and n types of objects.\n",
    "Each object of the ith type has weight `w_i` and profit `p_i` (all `w_i` and all `p_i` are positive\n",
    "integers, `i = 0, 1, …, n - 1`). There are unlimited supplies of each type of objects. Find\n",
    "the largest total profit of any set of the objects that fits in the knapsack.\n",
    "Let `P(C)` be the maximum profit that can be made by packing objects into the knapsack\n",
    "of capacity `C`."
   ]
  },
  {
   "cell_type": "markdown",
   "id": "76bc52cd-c032-4027-bb74-9a978317a897",
   "metadata": {},
   "source": [
    "### (1) Recursive Definition"
   ]
  },
  {
   "cell_type": "markdown",
   "id": "f243c340-aa20-42b5-a8c9-88f515cf8a9e",
   "metadata": {},
   "source": [
    "$P(c) = max(P(c - w_i) + p_i)$ for `i = 0, 1, …, n - 1`"
   ]
  },
  {
   "cell_type": "markdown",
   "id": "b6f2ee5c-a319-4706-8baa-6b8c3dbe84d5",
   "metadata": {},
   "source": [
    "### (3) Bottom-Up DP"
   ]
  },
  {
   "cell_type": "markdown",
   "id": "8aa444c7-095e-41e5-962f-2be76838341d",
   "metadata": {},
   "source": [
    "We can iterate each object and update value of `P(c)` according to <u>previous</u> `P(c - w_i) + p_i`\n",
    "\n",
    "Psuedocode:\n",
    "<div>\n",
    "for i = 0 to n - 1 <br/>\n",
    "&nbsp;&nbsp;&nbsp;&nbsp;&nbsp;&nbsp;&nbsp;&nbsp;for j = 0 to C <br/>\n",
    "&nbsp;&nbsp;&nbsp;&nbsp;&nbsp;&nbsp;&nbsp;&nbsp;&nbsp;&nbsp;&nbsp;&nbsp;&nbsp;&nbsp;&nbsp;&nbsp;if j - w[i] >= 0 <br/>\n",
    "&nbsp;&nbsp;&nbsp;&nbsp;&nbsp;&nbsp;&nbsp;&nbsp;&nbsp;&nbsp;&nbsp;&nbsp;&nbsp;&nbsp;&nbsp;&nbsp;&nbsp;&nbsp;&nbsp;&nbsp;&nbsp;&nbsp;&nbsp;&nbsp;dp[j] = max(dp[j], dp[j - w[i]] + p[i])<br/>\n",
    "ans = dp[C]\n",
    "</div>"
   ]
  },
  {
   "cell_type": "markdown",
   "id": "d462ecdf-d6f2-4c2c-9837-13ef06a9e5ad",
   "metadata": {},
   "source": [
    "Time Complexity: $O(nC)$ <br/>\n",
    "Space Complexity: $O(C)$"
   ]
  },
  {
   "cell_type": "markdown",
   "id": "c565b95c-8871-4283-95b3-6622abf468ef",
   "metadata": {},
   "source": [
    "### (4) Implementation"
   ]
  },
  {
   "cell_type": "code",
   "execution_count": 1,
   "id": "3e3a686b-7739-4163-8159-4b9ea3e228f1",
   "metadata": {},
   "outputs": [],
   "source": [
    "def bottom_up(n, C, w, p):\n",
    "    dp = [0 for _ in range(C + 1)]\n",
    "    for i in range(n):\n",
    "        for j in range(0, C + 1):\n",
    "            if j - w[i] >= 0:\n",
    "                dp[j] = max(dp[j], dp[j - w[i]] + p[i])\n",
    "    return dp"
   ]
  },
  {
   "cell_type": "code",
   "execution_count": 2,
   "id": "55a28dbb-8bfb-46b0-9af6-2632a2a27d64",
   "metadata": {},
   "outputs": [
    {
     "name": "stdout",
     "output_type": "stream",
     "text": [
      "P(C) = 21\n"
     ]
    }
   ],
   "source": [
    "n = 3\n",
    "C = 14\n",
    "w = [4, 6, 8]\n",
    "p = [7, 6, 9]\n",
    "\n",
    "dp = bottom_up(n, C, w, p)\n",
    "print(f'P(C) = {dp[C]}')"
   ]
  },
  {
   "cell_type": "code",
   "execution_count": 3,
   "id": "d6bd8d09-f4af-453c-a3e6-f51898152799",
   "metadata": {},
   "outputs": [
    {
     "name": "stdout",
     "output_type": "stream",
     "text": [
      "P(C) = 16\n"
     ]
    }
   ],
   "source": [
    "n = 3\n",
    "C = 14\n",
    "w = [5, 6, 8]\n",
    "p = [7, 6, 9]\n",
    "\n",
    "dp = bottom_up(n, C, w, p)\n",
    "print(f'P(C) = {dp[C]}')"
   ]
  }
 ],
 "metadata": {
  "kernelspec": {
   "display_name": "venv",
   "language": "python",
   "name": "venv"
  },
  "language_info": {
   "codemirror_mode": {
    "name": "ipython",
    "version": 3
   },
   "file_extension": ".py",
   "mimetype": "text/x-python",
   "name": "python",
   "nbconvert_exporter": "python",
   "pygments_lexer": "ipython3",
   "version": "3.12.1"
  }
 },
 "nbformat": 4,
 "nbformat_minor": 5
}
